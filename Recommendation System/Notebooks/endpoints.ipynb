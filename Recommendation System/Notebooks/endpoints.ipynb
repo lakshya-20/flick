{
 "cells": [
  {
   "cell_type": "code",
   "execution_count": 22,
   "metadata": {},
   "outputs": [],
   "source": [
    "import pandas as pd\n",
    "import numpy as np\n",
    "import pymongo\n",
    "import itertools\n",
    "import csv\n",
    "import json\n",
    "myclient = pymongo.MongoClient(\"mongodb://localhost:27017/\")\n",
    "mydb = myclient[\"flick\"]"
   ]
  },
  {
   "cell_type": "markdown",
   "metadata": {},
   "source": [
    "### Initialize"
   ]
  },
  {
   "cell_type": "code",
   "execution_count": 23,
   "metadata": {
    "scrolled": false
   },
   "outputs": [],
   "source": [
    "mycol = mydb[\"genres_datas\"]\n",
    "mycol.drop()\n",
    "genres_df=pd.read_csv('genres.csv')\n",
    "genre_json=genres_df.to_json(orient='records')\n",
    "genre_json=eval(genre_json)\n",
    "genre_data=genre_json\n",
    "x = mycol.insert_many(genre_data)\n",
    "\n",
    "\n",
    "mycol=mydb[\"movies_datas\"]\n",
    "mycol.drop()\n",
    "csvfile = open('movies.csv', 'r',encoding='utf-8')\n",
    "reader = csv.DictReader( csvfile )\n",
    "header=[\"movieId\",\"imdb_link\",\"poster\",\"title\",\"imdb_score\",\"genres\"]\n",
    "for each in reader:\n",
    "    row={}\n",
    "    for field in header:\n",
    "        row[field]=each[field]\n",
    "\n",
    "    mycol.insert_one(row)"
   ]
  },
  {
   "cell_type": "markdown",
   "metadata": {},
   "source": [
    "### New review"
   ]
  },
  {
   "cell_type": "code",
   "execution_count": 26,
   "metadata": {
    "scrolled": true
   },
   "outputs": [
    {
     "data": {
      "text/plain": [
       "movieId\n",
       "18515     0.961538\n",
       "79477     0.961538\n",
       "177858    0.961538\n",
       "34902     0.961538\n",
       "111543    0.961538\n",
       "dtype: float64"
      ]
     },
     "execution_count": 26,
     "metadata": {},
     "output_type": "execute_result"
    }
   ],
   "source": [
    "#inserting new review\n",
    "uid=2\n",
    "movieId=113228\n",
    "rating=4\n",
    "rating=float(rating)\n",
    "mycol = mydb[\"reviews\"]\n",
    "record={ \"uid\": uid, \"movieId\": movieId,\"rating\":rating }\n",
    "mycol.insert_one(record)\n",
    "#generating userInput table\n",
    "userInput=[]\n",
    "for x in mycol.find({\"uid\":uid},{ \"_id\": 0}):\n",
    "    userInput.append(x)\n",
    "userInput=pd.DataFrame(userInput)\n",
    "userInput=userInput.drop(['uid'], axis = 1) \n",
    "#fetching genres data from database\n",
    "mycol = mydb[\"genres_data\"]\n",
    "data=[]\n",
    "for x in mycol.find({},{\"_id\":0}):\n",
    "    data.append(x)\n",
    "genres_df=pd.DataFrame(data)\n",
    "#generating userProfile\n",
    "userGenre=genres_df[genres_df['movieId'].isin(userInput['movieId'].tolist())]\n",
    "userGenre.drop('movieId',1,inplace=True)\n",
    "userGenre.reset_index(drop=True)\n",
    "userProfile = userGenre.transpose().dot(userInput.rating.values)\n",
    "#getting new recommendations\n",
    "genreTable=genres_df.copy()\n",
    "genreTable.set_index('movieId',inplace=True)\n",
    "recommend_df=((genreTable*userProfile).sum(axis=1))/(userProfile.sum())\n",
    "recommend_df.sort_values(ascending=False,inplace=True)\n",
    "mycol = mydb[\"user_recommendation_data\"]\n",
    "recommendation_json=eval(recommend_df.to_json())\n",
    "recommendation_data={\"uid\":uid,\"recommendation_data\":recommendation_json}\n",
    "mycol.delete_one({\"uid\":uid})\n",
    "x = mycol.insert_one(recommendation_data)\n",
    "recommend_df.head()"
   ]
  },
  {
   "cell_type": "markdown",
   "metadata": {},
   "source": [
    "###    Recommendation"
   ]
  },
  {
   "cell_type": "code",
   "execution_count": 28,
   "metadata": {},
   "outputs": [
    {
     "data": {
      "text/plain": [
       "[{'movieId': '111543',\n",
       "  'imdb_link': 'http://www.imdb.com/title/tt111543',\n",
       "  'poster': 'https://images-na.ssl-images-amazon.com/images/M/MV5BMjMzMjAxNTYyMF5BMl5BanBnXkFtZTYwMzE4ODc4._V1_UY268_CR2,0,182,268_AL_.jpg',\n",
       "  'title': 'Little Indian, Big City (1994)',\n",
       "  'imdb_score': '5.6',\n",
       "  'genres': 'Adventure|Comedy|Romance'},\n",
       " {'movieId': '79477',\n",
       "  'imdb_link': 'http://www.imdb.com/title/tt79477',\n",
       "  'poster': 'https://images-na.ssl-images-amazon.com/images/M/MV5BMjE2MzYxMjMyN15BMl5BanBnXkFtZTcwMjI0NjYxMQ@@._V1_UX182_CR0,0,182,268_AL_.jpg',\n",
       "  'title': 'A Little Romance (1979)',\n",
       "  'imdb_score': '7.5',\n",
       "  'genres': 'Adventure|Comedy|Romance'},\n",
       " {'movieId': '177858',\n",
       "  'imdb_link': 'http://www.imdb.com/title/tt177858',\n",
       "  'poster': 'https://images-na.ssl-images-amazon.com/images/M/MV5BMTIwMTM0MzMzNF5BMl5BanBnXkFtZTcwMTczNTUyMQ@@._V1_UY268_CR4,0,182,268_AL_.jpg',\n",
       "  'title': 'In July (2000)',\n",
       "  'imdb_score': '7.8',\n",
       "  'genres': 'Adventure|Comedy|Romance'}]"
      ]
     },
     "execution_count": 28,
     "metadata": {},
     "output_type": "execute_result"
    }
   ],
   "source": [
    "mycol = mydb[\"user_recommendation_data\"]\n",
    "x=mycol.find_one({\"uid\":2},{\"_id\":0})\n",
    "data=x['recommendation_data']\n",
    "# recommend_df=pd.Series(data)\n",
    "# recommend_df.head()\n",
    "data=dict(itertools.islice(data.items(),5))\n",
    "movies_id=list(data.keys())\n",
    "\n",
    "mycol=mydb['movies_data']\n",
    "movies_data=[]\n",
    "for i in mycol.find({},{\"_id\":0}):\n",
    "    if(str(i[\"movieId\"]) in movies_id):\n",
    "        movies_data.append(i)\n",
    "movies_data"
   ]
  },
  {
   "cell_type": "code",
   "execution_count": null,
   "metadata": {},
   "outputs": [],
   "source": []
  }
 ],
 "metadata": {
  "kernelspec": {
   "display_name": "Python 3",
   "language": "python",
   "name": "python3"
  },
  "language_info": {
   "codemirror_mode": {
    "name": "ipython",
    "version": 3
   },
   "file_extension": ".py",
   "mimetype": "text/x-python",
   "name": "python",
   "nbconvert_exporter": "python",
   "pygments_lexer": "ipython3",
   "version": "3.7.1"
  }
 },
 "nbformat": 4,
 "nbformat_minor": 2
}
