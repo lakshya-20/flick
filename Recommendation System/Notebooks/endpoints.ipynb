{
 "cells": [
  {
   "cell_type": "code",
   "execution_count": 70,
   "metadata": {},
   "outputs": [],
   "source": [
    "import pandas as pd\n",
    "import numpy as np\n",
    "import pymongo\n",
    "import itertools\n",
    "import csv\n",
    "import json\n",
    "myclient = pymongo.MongoClient(\"mongodb://localhost:27017/\")\n",
    "mydb = myclient[\"flick\"]"
   ]
  },
  {
   "cell_type": "markdown",
   "metadata": {},
   "source": [
    "### Initialize"
   ]
  },
  {
   "cell_type": "code",
   "execution_count": 78,
   "metadata": {
    "scrolled": true
   },
   "outputs": [
    {
     "name": "stdout",
     "output_type": "stream",
     "text": [
      "['http://www.imdb.com/title/tt114709' 'http://www.imdb.com/title/tt113497'\n",
      " 'http://www.imdb.com/title/tt113228' ...\n",
      " 'http://www.imdb.com/title/tt82875' 'http://www.imdb.com/title/tt815258'\n",
      " 'http://www.imdb.com/title/tt79142']\n",
      "[{\"movieId\":114709,\"imdb_link\":\"http:\\/\\/www.imdb.com\\/title\\/tt114709\",\"title\":\"Toy Story (1995)\",\"\n"
     ]
    }
   ],
   "source": [
    "mycol=mydb[\"posters_data\"]\n",
    "mycol.drop()\n",
    "csvfile = open('posters.csv', 'r')\n",
    "reader = csv.DictReader( csvfile )\n",
    "header=[\"movieId\",\"imdb_link\",\"poster\"]\n",
    "for each in reader:\n",
    "    row={}\n",
    "    for field in header:\n",
    "        row[field]=each[field]\n",
    "\n",
    "    mycol.insert_one(row)\n",
    "\n",
    "\n",
    "\n",
    "mycol = mydb[\"genres_data\"]\n",
    "mycol.drop()\n",
    "#genres_df=pd.read_csv('genres.csv')\n",
    "genre_json=genres_df.to_json(orient='records')\n",
    "genre_json=eval(genre_json)\n",
    "genre_data=genre_json\n",
    "x = mycol.insert_many(genre_data)\n",
    "\n",
    "\n",
    "mycol = mydb[\"movies_data\"]\n",
    "mycol.drop()\n",
    "movies_df=pd.read_csv('movies.csv')\n",
    "movies_json=movies_df.to_json(orient='records')\n",
    "movies_json=eval(movies_json)\n",
    "movies_data=movies_json\n",
    "movies_data[0]\n",
    "x = mycol.insert_many(movies_data)"
   ]
  },
  {
   "cell_type": "markdown",
   "metadata": {},
   "source": [
    "### New review"
   ]
  },
  {
   "cell_type": "code",
   "execution_count": 97,
   "metadata": {
    "scrolled": true
   },
   "outputs": [
    {
     "data": {
      "text/plain": [
       "movieId\n",
       "114709    1.0\n",
       "452598    1.0\n",
       "371606    1.0\n",
       "115641    1.0\n",
       "250223    1.0\n",
       "dtype: float64"
      ]
     },
     "execution_count": 97,
     "metadata": {},
     "output_type": "execute_result"
    }
   ],
   "source": [
    "#inserting new review\n",
    "uid=1\n",
    "movieId=114709\n",
    "rating=4\n",
    "rating=float(rating)\n",
    "mycol = mydb[\"reviews\"]\n",
    "record={ \"uid\": uid, \"movieId\": movieId,\"rating\":rating }\n",
    "mycol.insert_one(record)\n",
    "#generating userInput table\n",
    "userInput=[]\n",
    "for x in mycol.find({\"uid\":uid},{ \"_id\": 0}):\n",
    "    userInput.append(x)\n",
    "userInput=pd.DataFrame(userInput)\n",
    "userInput=userInput.drop(['uid'], axis = 1) \n",
    "#fetching genres data from database\n",
    "mycol = mydb[\"genres_data\"]\n",
    "data=[]\n",
    "for x in mycol.find({},{\"_id\":0}):\n",
    "    data.append(x)\n",
    "genres_df=pd.DataFrame(data)\n",
    "#generating userProfile\n",
    "userGenre=genres_df[genres_df['movieId'].isin(userInput['movieId'].tolist())]\n",
    "userGenre.drop('movieId',1,inplace=True)\n",
    "userGenre.reset_index(drop=True)\n",
    "userProfile = userGenre.transpose().dot(userInput.rating.values)\n",
    "#getting new recommendations\n",
    "genreTable=genres_df.copy()\n",
    "genreTable.set_index('movieId',inplace=True)\n",
    "recommend_df=((genreTable*userProfile).sum(axis=1))/(userProfile.sum())\n",
    "recommend_df.sort_values(ascending=False,inplace=True)\n",
    "mycol = mydb[\"user_recommendation_data\"]\n",
    "recommendation_json=eval(recommend_df.to_json())\n",
    "recommendation_data={\"uid\":uid,\"recommendation_data\":recommendation_json}\n",
    "mycol.delete_one({\"uid\":uid})\n",
    "x = mycol.insert_one(recommendation_data)\n",
    "recommend_df.head()"
   ]
  },
  {
   "cell_type": "markdown",
   "metadata": {},
   "source": [
    "###    Recommendation"
   ]
  },
  {
   "cell_type": "code",
   "execution_count": 98,
   "metadata": {},
   "outputs": [
    {
     "data": {
      "text/plain": [
       "[{'movieId': 114709,\n",
       "  'title': 'Toy Story (1995)',\n",
       "  'imdb_score': 8.3,\n",
       "  'genres': 'Animation|Adventure|Comedy',\n",
       "  'poster': 'https://images-na.ssl-images-amazon.com/images/M/MV5BMDU2ZWJlMjktMTRhMy00ZTA5LWEzNDgtYmNmZTEwZTViZWJkXkEyXkFqcGdeQXVyNDQ2OTk4MzI@._V1_UX182_CR0,0,182,268_AL_.jpg',\n",
       "  'imdb_link': 'http://www.imdb.com/title/tt114709'},\n",
       " {'movieId': 115641,\n",
       "  'title': 'Beavis and Butt-Head Do America (1996)',\n",
       "  'imdb_score': 6.8,\n",
       "  'genres': 'Animation|Adventure|Comedy',\n",
       "  'poster': 'https://images-na.ssl-images-amazon.com/images/M/MV5BNWY3NmNlYzYtNzY5Yy00Y2Q1LWE1NWEtYzQ2NDM4YTMyYjVmXkEyXkFqcGdeQXVyMTQxNzMzNDI@._V1_UX182_CR0,0,182,268_AL_.jpg',\n",
       "  'imdb_link': 'http://www.imdb.com/title/tt115641'},\n",
       " {'movieId': 250223,\n",
       "  'title': 'Asterix and Obelix Meet Cleopatra (2002)',\n",
       "  'imdb_score': 6.6,\n",
       "  'genres': 'Adventure|Comedy|Family',\n",
       "  'poster': 'https://images-na.ssl-images-amazon.com/images/M/MV5BMTg2ODU0MTA1NF5BMl5BanBnXkFtZTcwNzE2MDY5MQ@@._V1_UY268_CR3,0,182,268_AL_.jpg',\n",
       "  'imdb_link': 'http://www.imdb.com/title/tt250223'},\n",
       " {'movieId': 371606,\n",
       "  'title': 'Chicken Little (2005)',\n",
       "  'imdb_score': 5.8,\n",
       "  'genres': 'Animation|Adventure|Comedy',\n",
       "  'poster': 'https://images-na.ssl-images-amazon.com/images/M/MV5BMTcwMjMwNTA3MV5BMl5BanBnXkFtZTcwMjk4OTgyMQ@@._V1_UX182_CR0,0,182,268_AL_.jpg',\n",
       "  'imdb_link': 'http://www.imdb.com/title/tt371606'},\n",
       " {'movieId': 452598,\n",
       "  'title': 'Cheaper by the Dozen 2 (2005)',\n",
       "  'imdb_score': 5.4,\n",
       "  'genres': 'Adventure|Comedy|Family',\n",
       "  'poster': 'https://images-na.ssl-images-amazon.com/images/M/MV5BOWFhMjQ5ZDgtZTUwZC00Mjg0LTk1OGYtYTA2ZDMxZmE4ZjYzXkEyXkFqcGdeQXVyNTIzOTk5ODM@._V1_UY268_CR2,0,182,268_AL_.jpg',\n",
       "  'imdb_link': 'http://www.imdb.com/title/tt452598'}]"
      ]
     },
     "execution_count": 98,
     "metadata": {},
     "output_type": "execute_result"
    }
   ],
   "source": [
    "mycol = mydb[\"user_recommendation_data\"]\n",
    "x=mycol.find_one({\"uid\":1},{\"_id\":0})\n",
    "data=x['recommendation_data']\n",
    "# recommend_df=pd.Series(data)\n",
    "# recommend_df.head()\n",
    "data=dict(itertools.islice(data.items(),5))\n",
    "movies_id=list(data.keys())\n",
    "\n",
    "mycol=mydb['movies_data']\n",
    "movies_data=[]\n",
    "for i in mycol.find({},{\"_id\":0}):\n",
    "    if(str(i[\"movieId\"]) in movies_id):\n",
    "        movies_data.append(i)\n",
    "        \n",
    "        \n",
    "mycol = mydb[\"posters_data\"]\n",
    "for movie in movies_data:\n",
    "    data=mycol.find_one({\"movieId\":str(movie.get('movieId'))},{\"_id\":0})\n",
    "    movie['poster']=data['poster']\n",
    "    movie['imdb_link']=data['imdb_link']\n",
    "movies_data"
   ]
  },
  {
   "cell_type": "code",
   "execution_count": null,
   "metadata": {},
   "outputs": [],
   "source": []
  }
 ],
 "metadata": {
  "kernelspec": {
   "display_name": "Python 3",
   "language": "python",
   "name": "python3"
  },
  "language_info": {
   "codemirror_mode": {
    "name": "ipython",
    "version": 3
   },
   "file_extension": ".py",
   "mimetype": "text/x-python",
   "name": "python",
   "nbconvert_exporter": "python",
   "pygments_lexer": "ipython3",
   "version": "3.7.1"
  }
 },
 "nbformat": 4,
 "nbformat_minor": 2
}
